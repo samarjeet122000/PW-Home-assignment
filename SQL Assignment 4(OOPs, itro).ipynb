{
 "cells": [
  {
   "cell_type": "markdown",
   "id": "35cce7ce-90b5-4a3d-aba8-4c8dd325684f",
   "metadata": {},
   "source": [
    "Q.1.Explain class and object with respect to object oriented programing .give a suuitable example. "
   ]
  },
  {
   "cell_type": "markdown",
   "id": "0009b2fb-7331-45e9-8c55-442d72efcf2f",
   "metadata": {},
   "source": [
    "Ans. Class is just the classification or blueprint of real world entity .Basically it classify multiples modules .It makes our codding more structured and reusable .\n",
    "\n",
    "Object is an instance of class .It is a tangible entity created from a class definition.Object can interact with each other and collaborating to perform tasks.\n",
    "                               The object can be seen as the reason for creating a particular class. Here is an example of class and object . "
   ]
  },
  {
   "cell_type": "code",
   "execution_count": 1,
   "id": "90aa62e1-9e23-4c93-bfd7-72dc272d4ecd",
   "metadata": {},
   "outputs": [],
   "source": [
    "a=\"pwskills\"\n",
    "    "
   ]
  },
  {
   "cell_type": "code",
   "execution_count": 2,
   "id": "db003b3c-49cb-4b13-8c34-5e96d4add737",
   "metadata": {},
   "outputs": [
    {
     "name": "stdout",
     "output_type": "stream",
     "text": [
      "<class 'str'>\n"
     ]
    }
   ],
   "source": [
    "print(type(a))"
   ]
  },
  {
   "cell_type": "markdown",
   "id": "d852d2fd-4278-4afe-99d5-efd7d01dd447",
   "metadata": {},
   "source": [
    "here pwskills belongs to string class"
   ]
  },
  {
   "cell_type": "code",
   "execution_count": 4,
   "id": "b8031360-086a-4209-a599-3ee66d2d2785",
   "metadata": {},
   "outputs": [],
   "source": [
    "class pwskills:\n",
    "    def dataScience_class(self):\n",
    "        print(\"join the demonstration class\")"
   ]
  },
  {
   "cell_type": "code",
   "execution_count": 5,
   "id": "e4c8e1b1-cff1-4e22-9388-859684ef4226",
   "metadata": {},
   "outputs": [],
   "source": [
    "Pranay=pwskills()"
   ]
  },
  {
   "cell_type": "code",
   "execution_count": 7,
   "id": "fe8cc61b-3f61-4d38-b1ef-daf2087b7451",
   "metadata": {},
   "outputs": [
    {
     "name": "stdout",
     "output_type": "stream",
     "text": [
      "<class '__main__.pwskills'>\n"
     ]
    }
   ],
   "source": [
    "print(type(Pranay))"
   ]
  },
  {
   "cell_type": "code",
   "execution_count": 6,
   "id": "7c364a78-33f4-4115-a8ee-8ec9a2c2023b",
   "metadata": {},
   "outputs": [
    {
     "name": "stdout",
     "output_type": "stream",
     "text": [
      "join the demonstration class\n"
     ]
    }
   ],
   "source": [
    "Pranay.dataScience_class()"
   ]
  },
  {
   "cell_type": "markdown",
   "id": "dde840be-3e38-4cec-9d7d-cdb4c5c546be",
   "metadata": {},
   "source": [
    "Here Pranay is an object or variable of class pwskills"
   ]
  },
  {
   "cell_type": "code",
   "execution_count": null,
   "id": "efa69a44-4067-4cea-90c8-12dbeb71ebd9",
   "metadata": {},
   "outputs": [],
   "source": []
  },
  {
   "cell_type": "markdown",
   "id": "833174c7-66e9-4a8b-b901-9d5c669596d6",
   "metadata": {},
   "source": [
    "Q.2.Name the four pillars of OOPS."
   ]
  },
  {
   "cell_type": "markdown",
   "id": "b0686f41-1591-4501-980d-42c8f389868a",
   "metadata": {},
   "source": [
    "Ans.These are the four pillars of oops\n",
    "1.class, 2.object, 3.init, 4.self"
   ]
  },
  {
   "cell_type": "markdown",
   "id": "83557b1b-5565-4b24-b79f-ed83b85bb49e",
   "metadata": {},
   "source": [
    "Q.3.Explain why __init__ () function is used .Give a suitable example."
   ]
  },
  {
   "cell_type": "markdown",
   "id": "71cfd56c-ee9e-41f4-a638-9daf6dec9891",
   "metadata": {},
   "source": [
    "Ans. Init is an inbuilt function .This is also called constructor in class.It helps us to initialize different type of element or variable or object in a class.It automatically called the provided arguments.Here is an example of __init__ function--  "
   ]
  },
  {
   "cell_type": "code",
   "execution_count": 15,
   "id": "eb6e3bf8-8b08-4d23-b904-0e828af8c656",
   "metadata": {},
   "outputs": [],
   "source": [
    "class country:\n",
    "    def __init__ (self ,no_state, name_state, population_state):\n",
    "        self.no_state=no_state\n",
    "        self.name_state=name_state\n",
    "        self.population_state=population_state\n",
    "        \n",
    "    def return_state_details(self):\n",
    "        return self.no_state, self.name_state, self.population_state"
   ]
  },
  {
   "cell_type": "code",
   "execution_count": 16,
   "id": "17fd0ae9-de4d-4008-a3f9-aa736231dd6c",
   "metadata": {},
   "outputs": [],
   "source": [
    "India=country(2,\"Jammu and Kashmir\",64646)"
   ]
  },
  {
   "cell_type": "code",
   "execution_count": 17,
   "id": "fd718ebc-215a-418e-bd1f-b05cb50e5674",
   "metadata": {},
   "outputs": [
    {
     "data": {
      "text/plain": [
       "(2, 'Jammu and Kashmir', 64646)"
      ]
     },
     "execution_count": 17,
     "metadata": {},
     "output_type": "execute_result"
    }
   ],
   "source": [
    "India.return_state_details()"
   ]
  },
  {
   "cell_type": "code",
   "execution_count": null,
   "id": "0e9f9f6a-e87a-43da-913a-73fc3dd9b0c5",
   "metadata": {},
   "outputs": [],
   "source": []
  },
  {
   "cell_type": "markdown",
   "id": "671c3d08-f05d-46b5-9068-a743518c0d9a",
   "metadata": {},
   "source": [
    "Q.4.Why self is used in OOPS ?"
   ]
  },
  {
   "cell_type": "markdown",
   "id": "600fdd54-4d9f-45a7-8ec8-80ae56d906da",
   "metadata": {},
   "source": [
    "Ans. Self is a pointer .It provides the referance through the class .It actually bind our data with the class so that class ensures itself that it is accessing with the particular variable.It is a fundamental concept in OOPS that helps to organize and encapsulate data and behavior within classes and objects . "
   ]
  },
  {
   "cell_type": "code",
   "execution_count": null,
   "id": "2a905de7-d54f-4d97-8f62-94db86b8af8d",
   "metadata": {},
   "outputs": [],
   "source": []
  },
  {
   "cell_type": "markdown",
   "id": "2b310da7-08bf-404d-8755-596ae958c5cc",
   "metadata": {},
   "source": [
    "Q.5.What is inheritance ? Give an example for each type of inheritance ."
   ]
  },
  {
   "cell_type": "markdown",
   "id": "efe8f264-2fde-4b26-b02d-223dd06a3a83",
   "metadata": {},
   "source": [
    "Ans. Inheritance is a fundamental concept in object oriented programming system that allows class to inherit properties and behavior from other classes. It enables code reuse ,modularity ,and the establishment of hierarchial relationship between classes .Inheritance allows a class to inherit attribnutes and methods from another class .\n",
    "   there are several types of inheritance \n",
    "   \n",
    "   a.Single inheritance:-It occurs when a class inherits properties and behavior from a singal superclass .It forms a parent-child relationship between classes. eg."
   ]
  },
  {
   "cell_type": "code",
   "execution_count": 18,
   "id": "be526afc-f971-4f83-bd19-e5509ffe8fd6",
   "metadata": {},
   "outputs": [],
   "source": [
    "class pwskills:\n",
    "    def __init(self, phone_number):\n",
    "        self.phone_number=phone_number\n",
    "        \n",
    "    def return_phone_number(self):\n",
    "        return self.phone_number"
   ]
  },
  {
   "cell_type": "markdown",
   "id": "44d07cee-4982-4333-833d-93dfe309a747",
   "metadata": {},
   "source": [
    "b.Multiple Inheritance :- It occurs when a class inherits properties and behaviour from multiple super classes .The subclasses combines the atributes and methods from all the super classes \n",
    "eg.."
   ]
  },
  {
   "cell_type": "code",
   "execution_count": 20,
   "id": "c4d90251-14cc-405a-90c4-e4a43166991c",
   "metadata": {},
   "outputs": [],
   "source": [
    "class pwskills :\n",
    "    def do_assignment(self):\n",
    "        print(\"please give the attention on completed assignment\")"
   ]
  },
  {
   "cell_type": "code",
   "execution_count": 21,
   "id": "2e5aebd3-d51a-4a82-a2ba-7d72fb3a97e7",
   "metadata": {},
   "outputs": [],
   "source": [
    "Pranay=pwskills()"
   ]
  },
  {
   "cell_type": "code",
   "execution_count": 22,
   "id": "40ebde5e-fcbf-489e-bb9f-45a92455b925",
   "metadata": {},
   "outputs": [
    {
     "name": "stdout",
     "output_type": "stream",
     "text": [
      "please give the attention on completed assignment\n"
     ]
    }
   ],
   "source": [
    "Pranay.do_assignment()"
   ]
  },
  {
   "cell_type": "markdown",
   "id": "0ffe9461-fc0d-4d94-90f4-ddfba61de8dc",
   "metadata": {},
   "source": [
    "c.Multiple Inheritance:- It occurs when a class inherits from another class and that class ,in turn ,inherits from another class .It forms a hierarchy of classes \n",
    "eg.."
   ]
  },
  {
   "cell_type": "code",
   "execution_count": 23,
   "id": "28777b8e-701a-4958-a670-f06c6bed2c94",
   "metadata": {},
   "outputs": [],
   "source": [
    "class data_science:\n",
    "    def learn(self):\n",
    "        print(\"learn data science\")"
   ]
  },
  {
   "cell_type": "code",
   "execution_count": 24,
   "id": "89c1bc88-cf9b-4360-8e6b-1797e8f6335b",
   "metadata": {},
   "outputs": [],
   "source": [
    "Pranay=data_science()"
   ]
  },
  {
   "cell_type": "code",
   "execution_count": 25,
   "id": "1671f6dc-2d0c-431d-8b42-a6e7896903fd",
   "metadata": {},
   "outputs": [
    {
     "name": "stdout",
     "output_type": "stream",
     "text": [
      "learn data science\n"
     ]
    }
   ],
   "source": [
    "Pranay.learn()"
   ]
  },
  {
   "cell_type": "code",
   "execution_count": null,
   "id": "941d79be-56bc-43d6-b327-2f65b29c7854",
   "metadata": {},
   "outputs": [],
   "source": []
  }
 ],
 "metadata": {
  "kernelspec": {
   "display_name": "Python 3 (ipykernel)",
   "language": "python",
   "name": "python3"
  },
  "language_info": {
   "codemirror_mode": {
    "name": "ipython",
    "version": 3
   },
   "file_extension": ".py",
   "mimetype": "text/x-python",
   "name": "python",
   "nbconvert_exporter": "python",
   "pygments_lexer": "ipython3",
   "version": "3.10.8"
  }
 },
 "nbformat": 4,
 "nbformat_minor": 5
}
